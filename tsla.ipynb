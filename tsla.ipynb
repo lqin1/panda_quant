{
 "nbformat": 4,
 "nbformat_minor": 2,
 "metadata": {
  "language_info": {
   "name": "python",
   "codemirror_mode": {
    "name": "ipython",
    "version": 3
   },
   "version": "3.6.4-final"
  },
  "orig_nbformat": 2,
  "file_extension": ".py",
  "mimetype": "text/x-python",
  "name": "python",
  "npconvert_exporter": "python",
  "pygments_lexer": "ipython3",
  "version": 3,
  "kernelspec": {
   "name": "python36464bitvenvvirtualenvc175969299d94c86ab89e230b5897182",
   "display_name": "Python 3.6.4 64-bit ('venv': virtualenv)"
  }
 },
 "cells": [
  {
   "cell_type": "code",
   "execution_count": 67,
   "metadata": {},
   "outputs": [],
   "source": [
    "### ONLY for stocks that adj_close == close\n",
    "###\n",
    "import pandas as pd\n",
    "from sklearn.linear_model import LinearRegression\n",
    "\n",
    "pv_fp = './data/TSLA.csv'\n",
    "pv_df = pd.read_csv(pv_fp, sep=',')\n",
    "# shit yesterday's info as today's input\n",
    "pv_df_d1 = pv_df.copy()\n",
    "pv_df_d1.Date = pv_df_d1.Date.shift(-1)\n",
    "pv_df_d1.columns = ['Date','last_open', 'last_high', 'last_low','last_close','last_adj_close','last_volume']"
   ]
  },
  {
   "cell_type": "code",
   "execution_count": 68,
   "metadata": {},
   "outputs": [],
   "source": [
    "merged_df = pd.merge(pv_df, pv_df_d1, how='inner', on='Date')\n",
    "merged_df = merged_df[['Date', 'last_high', 'last_low', 'last_close', 'Open', 'High', 'Low', 'Close']]\n",
    "merged_df['deviation'] = merged_df.apply(lambda row: (row['High']-row['Low'])/2, axis=1)\n",
    "merged_df['mean'] = merged_df.apply(lambda row: (row['High']+row['Low'])/2, axis=1)\n",
    "merged_df['jump'] = merged_df.apply(lambda row: abs(row['Open']-row['last_close']), axis=1)\n",
    "merged_df['jump_high'] = merged_df.apply(lambda row: abs(row['Open']-row['last_high']), axis=1)\n",
    "merged_df['jump_low'] = merged_df.apply(lambda row: abs(row['Open']-row['last_low']), axis=1)\n",
    "merged_df['hml'] = merged_df.apply(lambda row: abs(row['last_high']-row['last_low']), axis=1)\n",
    "\n",
    "\n",
    "X = merged_df[['last_high', 'last_low', 'last_close', 'Open']]\n",
    "\n",
    "X = merged_df[['hml','jump']]\n",
    "y = merged_df['deviation']\n",
    "reg = LinearRegression(fit_intercept=False).fit(X, y)"
   ]
  },
  {
   "cell_type": "code",
   "execution_count": 156,
   "metadata": {},
   "outputs": [],
   "source": [
    "import yfinance as yf\n",
    "tickers = ['TSLA',\n",
    "    'ABT', 'ABBV', 'ACN', 'ACE', 'ADBE', 'ADT', 'AAP', 'AES', 'AET', 'AFL',\n",
    "    'AMG', 'A', 'GAS', 'APD', 'ARG', 'AKAM', 'AA', 'AGN', 'ALXN', 'ALLE',\n",
    "    'ADS', 'ALL', 'ALTR', 'MO', 'AMZN', 'AEE', 'AAL', 'AEP', 'AXP', 'AIG',\n",
    "    'AMT', 'AMP', 'ABC', 'AME', 'AMGN', 'APH', 'APC', 'ADI', 'AON', 'APA',\n",
    "    'AIV', 'AMAT', 'ADM', 'AIZ', 'T', 'ADSK', 'ADP', 'AN', 'AZO', 'AVGO',\n",
    "    'AVB', 'AVY', 'BHI', 'BLL', 'BAC', 'BK', 'BCR', 'BXLT', 'BAX', 'BBT',\n",
    "    'BDX', 'BBBY', 'BRK-B', 'BBY', 'BLX', 'HRB', 'BA', 'BWA', 'BXP', 'BSK',\n",
    "    'BMY', 'BRCM', 'BF-B', 'CHRW', 'CA', 'CVC', 'COG', 'CAM', 'CPB', 'COF',\n",
    "    'CAH', 'HSIC', 'KMX', 'CCL', 'CAT', 'CBG', 'CBS', 'CELG', 'CNP', 'CTL',\n",
    "    'CERN', 'CF', 'SCHW', 'CHK', 'CVX', 'CMG', 'CB', 'CI', 'XEC', 'CINF',\n",
    "    'CTAS', 'CSCO', 'C', 'CTXS', 'CLX', 'CME', 'CMS', 'COH', 'KO', 'CCE',\n",
    "    'CTSH', 'CL', 'CMCSA', 'CMA', 'CSC', 'CAG', 'COP', 'CNX', 'ED', 'STZ',\n",
    "    'GLW', 'COST', 'CCI', 'CSX', 'CMI', 'CVS', 'DHI', 'DHR', 'DRI', 'DVA',\n",
    "    'DE', 'DLPH', 'DAL', 'XRAY', 'DVN', 'DO', 'DTV', 'DFS', 'DISCA', 'DISCK',\n",
    "    'DG', 'DLTR', 'D', 'DOV', 'DOW', 'DPS', 'DTE', 'DD', 'DUK', 'DNB', 'ETFC',\n",
    "    'EMN', 'ETN', 'EBAY', 'ECL', 'EIX', 'EW', 'EA', 'EMC', 'EMR', 'ENDP',\n",
    "    'ESV', 'ETR', 'EOG', 'EQT', 'EFX', 'EQIX', 'EQR', 'ESS', 'EL', 'ES', 'EXC',\n",
    "    'EXPE', 'EXPD', 'ESRX', 'XOM', 'FFIV', 'FB', 'FAST', 'FDX', 'FIS', 'FITB',\n",
    "    'FSLR', 'FE', 'FSIV', 'FLIR', 'FLS', 'FLR', 'FMC', 'FTI', 'F', 'FOSL',\n",
    "    'BEN', 'FCX', 'FTR', 'GME', 'GPS', 'GRMN', 'GD', 'GE', 'GGP', 'GIS', 'GM',\n",
    "    'GPC', 'GNW', 'GILD', 'GS', 'GT', 'GOOGL', 'GOOG', 'GWW', 'HAL', 'HBI',\n",
    "    'HOG', 'HAR', 'HRS', 'HIG', 'HAS', 'HCA', 'HCP', 'HCN', 'HP', 'HES', 'HPQ',\n",
    "    'HD', 'HON', 'HRL', 'HSP', 'HST', 'HCBK', 'HUM', 'HBAN', 'ITW', 'IR',\n",
    "    'INTC', 'ICE', 'IBM', 'IP', 'IPG', 'IFF', 'INTU', 'ISRG', 'IVZ', 'IRM',\n",
    "    'JEC', 'JBHT', 'JNJ', 'JCI', 'JOY', 'JPM', 'JNPR', 'KSU', 'K', 'KEY',\n",
    "    'GMCR', 'KMB', 'KIM. KMI', 'KLAC', 'KSS', 'KRFT', 'KR', 'LB', 'LLL', 'LH',\n",
    "    'LRCX', 'LM', 'LEG', 'LEN', 'LVLT', 'LUK', 'LLY', 'LNC', 'LLTC', 'LMT',\n",
    "    'L', 'LOW', 'LYB', 'MTB', 'MAC', 'M', 'MNK', 'MRO', 'MPC', 'MAR', 'MMC',\n",
    "    'MLM', 'MAS', 'MA', 'MAT', 'MKC', 'MCD', 'MHFI', 'MCK', 'MJN', 'MMV',\n",
    "    'MDT', 'MRK', 'MET', 'KORS', 'MCHP', 'MU', 'MSFT', 'MHK', 'TAP', 'MDLZ',\n",
    "    'MON', 'MNST', 'MCO', 'MS', 'MOS', 'MSI', 'MUR', 'MYL', 'NDAQ', 'NOV',\n",
    "    'NAVI', 'NTAP', 'NFLX', 'NWL', 'NFX', 'NEM', 'NWSA', 'NEE', 'NLSN', 'NKE',\n",
    "    'NI', 'NE', 'NBL', 'JWN', 'NSC', 'NTRS', 'NOC', 'NRG', 'NUE', 'NVDA',\n",
    "    'ORLY', 'OXY', 'OMC', 'OKE', 'ORCL', 'OI', 'PCAR', 'PLL', 'PH', 'PDCO',\n",
    "    'PAYX', 'PNR', 'PBCT', 'POM', 'PEP', 'PKI', 'PRGO', 'PFE', 'PCG', 'PM',\n",
    "    'PSX', 'PNW', 'PXD', 'PBI', 'PCL', 'PNC', 'RL', 'PPG', 'PPL', 'PX', 'PCP',\n",
    "    'PCLN', 'PFG', 'PG', 'PGR', 'PLD', 'PRU', 'PEG', 'PSA', 'PHM', 'PVH',\n",
    "    'QRVO', 'PWR', 'QCOM', 'DGX', 'RRC', 'RTN', 'O', 'RHT', 'REGN', 'RF',\n",
    "    'RSG', 'RAI', 'RHI', 'ROK', 'COL', 'ROP', 'ROST', 'RLC', 'R', 'CRM',\n",
    "    'SNDK', 'SCG', 'SLB', 'SNI', 'STX', 'SEE', 'SRE', 'SHW', 'SIAL', 'SPG',\n",
    "    'SWKS', 'SLG', 'SJM', 'SNA', 'SO', 'LUV', 'SWN', 'SE', 'STJ', 'SWK',\n",
    "    'SPLS', 'SBUX', 'HOT', 'STT', 'SRCL', 'SYK', 'STI', 'SYMC', 'SYY', 'TROW',\n",
    "    'TGT', 'TEL', 'TE', 'TGNA', 'THC', 'TDC', 'TSO', 'TXN', 'TXT', 'HSY',\n",
    "    'TRV', 'TMO', 'TIF', 'TWX', 'TWC', 'TJK', 'TMK', 'TSS', 'TSCO', 'RIG',\n",
    "    'TRIP', 'FOXA', 'TSN', 'TYC', 'UA', 'UNP', 'UNH', 'UPS', 'URI', 'UTX',\n",
    "    'UHS', 'UNM', 'URBN', 'VFC', 'VLO', 'VAR', 'VTR', 'VRSN', 'VZ', 'VRTX',\n",
    "    'VIAB', 'V', 'VNO', 'VMC', 'WMT', 'WBA', 'DIS', 'WM', 'WAT', 'ANTM', 'WFC',\n",
    "    'WDC', 'WU', 'WY', 'WHR', 'WFM', 'WMB', 'WEC', 'WYN', 'WYNN', 'XEL', 'XRX',\n",
    "    'XLNX', 'XL', 'XYL', 'YHOO', 'YUM', 'ZBH', 'ZION', 'ZTS',\n",
    "]\n",
    "def jump(row):\n",
    "    if row['Open'] > row['last_high']:\n",
    "        return 1\n",
    "    elif row['Open'] < row['last_low']:\n",
    "        return -1\n",
    "    else:\n",
    "        return 0\n",
    "\n",
    "for ticker in tickers:\n",
    "    try:\n",
    "        hist = yf.Ticker(ticker).history(period='max', auto_adjust=True, actions=False)\n",
    " \n",
    "        hist.reset_index(level=0, inplace=True)\n",
    "        hist_d1 = hist.copy()\n",
    "        hist_d1.Date = hist_d1.Date.shift(-1)\n",
    "        hist_d1.columns = ['Date','last_open', 'last_high', 'last_low','last_close', 'last_volume']\n",
    "        merged_df = pd.merge(hist, hist_d1, how='inner', on='Date')\n",
    "        merged_df = merged_df[['Date', 'last_high', 'last_low', 'last_close', 'Open', 'High', 'Low', 'Close']]\n",
    "        merged_df.dropna(inplace=True)\n",
    "        merged_df['deviation'] = merged_df.apply(lambda row: (row['High']-row['Low'])/2, axis=1)\n",
    "        merged_df['mean'] = merged_df.apply(lambda row: (row['High']+row['Low'])/2, axis=1)\n",
    "        merged_df['jump'] = merged_df.apply(lambda row: abs(row['Open']-row['last_close']), axis=1)\n",
    "        merged_df['跳空'] = merged_df.apply(jump, axis=1)\n",
    "        # merged_df['jump_low'] = merged_df.apply(lambda row: row['Open']-row['last_low'] < 0, axis=1)\n",
    "        merged_df['hml'] = merged_df.apply(lambda row: abs(row['last_high']-row['last_low']), axis=1)\n",
    "        # for mean\n",
    "        for flag in [0,-1,1]:\n",
    "            df = merged_df[merged_df['跳空']==flag]\n",
    "            # X = df[['last_high', 'last_low', 'last_close', 'Open']]\n",
    "            X = df[['last_close', 'Open']]\n",
    "            y = df['mean']\n",
    "            reg = LinearRegression(fit_intercept=False).fit(X,y)\n",
    "            result = reg.coef_.tolist()\n",
    "            result.append(reg.score(X,y))\n",
    "            result.insert(0,ticker)\n",
    "            print(','.join([str(x) for x in result]), file=open('X_mean_res_'+str(flag)+'.csv','a'))\n",
    "\n",
    "            # for deviation\n",
    "            df = merged_df[merged_df['跳空']==flag]\n",
    "            X = df[['jump', 'hml']]\n",
    "            y = df['deviation']\n",
    "            reg = LinearRegression(fit_intercept=False).fit(X,y)\n",
    "            result = reg.coef_.tolist()\n",
    "            result.append(reg.score(X,y))\n",
    "            result.insert(0,ticker)\n",
    "            print(','.join([str(x) for x in result]), file=open('X_var_res_'+str(flag)+'.csv','a'))\n",
    "    except Exception:\n",
    "        continue\n"
   ]
  },
  {
   "cell_type": "code",
   "execution_count": 142,
   "metadata": {},
   "outputs": [
    {
     "data": {
      "text/plain": "['MSFT',\n 0.036595839571247096,\n 0.06871143706632188,\n -0.05317470342911623,\n 0.9478073243130332,\n 0.9999181652446585]"
     },
     "execution_count": 142,
     "metadata": {},
     "output_type": "execute_result"
    }
   ],
   "source": [
    "result = reg.coef_.tolist()\n",
    "result.append(reg.score(X,y))\n",
    "# type(reg.score(X,y).tolist())\n",
    "result.insert(0,ticker)\n",
    "result"
   ]
  },
  {
   "cell_type": "code",
   "execution_count": 90,
   "metadata": {},
   "outputs": [
    {
     "data": {
      "text/plain": "<bound method NDFrame.head of                   Open        High         Low       Close      Volume\nDate                                                                  \n1986-03-13    0.056964    0.065341    0.056964    0.062549  1031788800\n1986-03-14    0.062549    0.065899    0.062549    0.064783   308160000\n1986-03-17    0.064783    0.066458    0.064783    0.065899   133171200\n1986-03-18    0.065899    0.066458    0.063666    0.064224    67766400\n1986-03-19    0.064224    0.064783    0.062549    0.063107    47894400\n1986-03-20    0.063107    0.063107    0.060873    0.061432    58435200\n1986-03-21    0.061432    0.062549    0.058639    0.059756    59990400\n1986-03-24    0.059756    0.059756    0.057522    0.058081    65289600\n1986-03-25    0.058081    0.059198    0.057522    0.059198    32083200\n1986-03-26    0.059198    0.061432    0.058639    0.060873    22752000\n1986-03-27    0.060873    0.061990    0.060873    0.061990    16848000\n1986-03-31    0.061990    0.061990    0.060315    0.061432    12873600\n1986-04-01    0.061432    0.061432    0.060873    0.060873    11088000\n1986-04-02    0.060873    0.062549    0.060873    0.061432    27014400\n1986-04-03    0.061990    0.063666    0.061990    0.061990    23040000\n1986-04-04    0.061990    0.062549    0.061990    0.061990    26582400\n1986-04-07    0.061990    0.062549    0.059756    0.060873    16560000\n1986-04-08    0.060873    0.062549    0.060873    0.061432    10252800\n1986-04-09    0.061432    0.063107    0.061432    0.062549    12153600\n1986-04-10    0.062549    0.063666    0.061432    0.063107    13881600\n1986-04-11    0.063666    0.065341    0.063666    0.064224    17222400\n1986-04-14    0.064224    0.065341    0.064224    0.064783    12153600\n1986-04-15    0.064783    0.064783    0.062549    0.064783     9302400\n1986-04-16    0.064783    0.067575    0.064224    0.067016    31910400\n1986-04-17    0.067016    0.067575    0.067016    0.067575    22003200\n1986-04-18    0.067575    0.067575    0.064783    0.065341    21628800\n1986-04-21    0.065341    0.065899    0.063666    0.065341    22924800\n1986-04-22    0.065341    0.065341    0.064224    0.064224    15552000\n1986-04-23    0.064224    0.064783    0.063666    0.064503    15609600\n1986-04-24    0.064503    0.072043    0.064224    0.070926    62352000\n...                ...         ...         ...         ...         ...\n2019-12-30  158.990005  159.020004  156.729996  157.589996    16348400\n2019-12-31  156.770004  157.770004  156.449997  157.699997    18369400\n2020-01-02  158.779999  160.729996  158.330002  160.619995    22622100\n2020-01-03  158.320007  159.949997  158.059998  158.619995    21116200\n2020-01-06  157.080002  159.100006  156.509995  159.029999    20813700\n2020-01-07  159.320007  159.669998  157.320007  157.580002    21634100\n2020-01-08  158.929993  160.800003  157.949997  160.089996    27746500\n2020-01-09  161.839996  162.220001  161.029999  162.089996    21385000\n2020-01-10  162.820007  163.220001  161.179993  161.339996    20725900\n2020-01-13  161.759995  163.309998  161.259995  163.279999    21626500\n2020-01-14  163.389999  163.600006  161.720001  162.130005    23477400\n2020-01-15  162.619995  163.940002  162.570007  163.179993    21417900\n2020-01-16  164.350006  166.240005  164.029999  166.169998    23865400\n2020-01-17  167.419998  167.470001  165.429993  167.100006    34371700\n2020-01-21  166.679993  168.190002  166.429993  166.500000    29517200\n2020-01-22  167.399994  167.490005  165.679993  165.699997    24138800\n2020-01-23  166.190002  166.800003  165.270004  166.720001    19680800\n2020-01-24  167.509995  167.529999  164.449997  165.039993    24918100\n2020-01-27  161.149994  163.380005  160.199997  162.279999    32078100\n2020-01-28  163.779999  165.759995  163.070007  165.460007    24899900\n2020-01-29  167.839996  168.750000  165.690002  168.039993    34754500\n2020-01-30  174.050003  174.050003  170.789993  172.779999    51597500\n2020-01-31  172.210007  172.399994  169.580002  170.229996    36142700\n2020-02-03  170.429993  174.500000  170.399994  174.380005    30149100\n2020-02-04  177.139999  180.639999  176.309998  180.119995    36433300\n2020-02-05  184.029999  184.199997  178.410004  179.899994    39186300\n2020-02-06  180.970001  183.820007  180.059998  183.630005    27751400\n2020-02-07  182.850006  185.630005  182.479996  183.889999    33529100\n2020-02-10  183.580002  188.839996  183.250000  188.699997    35844300\n2020-02-11  190.649994  190.699997  183.500000  184.440002    53078600\n\n[8549 rows x 5 columns]>"
     },
     "execution_count": 90,
     "metadata": {},
     "output_type": "execute_result"
    }
   ],
   "source": [
    "hist.index.shift(1, freq='D')\n",
    "hist.head"
   ]
  }
 ]
}