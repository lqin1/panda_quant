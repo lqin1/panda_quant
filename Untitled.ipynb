{
 "cells": [
  {
   "cell_type": "code",
   "execution_count": 21,
   "metadata": {},
   "outputs": [],
   "source": [
    "import tushare as ts\n",
    "import pandas as pd\n",
    "ts.set_token('5cdbd84f433077ad90f771dc0d763fab6ebc1c9e19c795d7b70bb341')\n",
    "pro = ts.pro_api()"
   ]
  },
  {
   "cell_type": "code",
   "execution_count": 29,
   "metadata": {},
   "outputs": [],
   "source": [
    "hsgt_mf = pro.moneyflow_hsgt(start_date='20190601', end_date='20200101')\n",
    "hs300 = pro.index_daily(ts_code='399300.SZ', start_date='20190601', end_date='20200101')\n",
    "hs300.set_index('trade_date', inplace=True)\n",
    "hsgt_mf.set_index('trade_date', inplace=True)\n",
    "df = pd.concat([hs300, hsgt_mf], axis=1, sort=False)"
   ]
  },
  {
   "cell_type": "code",
   "execution_count": 32,
   "metadata": {},
   "outputs": [],
   "source": [
    "df1 = df[['close', 'north_money']]\n",
    "df1.to_csv('x.csv')\n",
    "# hsgt_mf"
   ]
  }
 ],
 "metadata": {
  "kernelspec": {
   "display_name": "Python 3",
   "language": "python",
   "name": "python3"
  },
  "language_info": {
   "codemirror_mode": {
    "name": "ipython",
    "version": 3
   },
   "file_extension": ".py",
   "mimetype": "text/x-python",
   "name": "python",
   "nbconvert_exporter": "python",
   "pygments_lexer": "ipython3",
   "version": "3.6.4"
  }
 },
 "nbformat": 4,
 "nbformat_minor": 4
}
